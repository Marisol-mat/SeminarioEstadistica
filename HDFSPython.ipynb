{
 "cells": [
  {
   "cell_type": "markdown",
   "metadata": {},
   "source": [
    "# UNIVERSIDAD NACIONAL AUTONOMA DE MEXICO\n",
    "## Seminario de Estadística\n",
    "## Arreola Silva Edna Marisol"
   ]
  },
  {
   "cell_type": "code",
   "execution_count": 7,
   "metadata": {},
   "outputs": [],
   "source": [
    "from hdfs import InsecureClient\n",
    "import json\n",
    "\n",
    "##Crear conexión con HDFS\n",
    "def conexion(url, user):\n",
    "    \"\"\"\n",
    "    url --string no null, url del host\n",
    "    \n",
    "    Esta función logra la conexion con hdfs \n",
    "    \n",
    "    \"\"\"\n",
    "    try:\n",
    "        client = InsecureClient(url, user)\n",
    "        return client\n",
    "    except:\n",
    "        print(\"Ocurrio un error favor de verificar la url del host\")\n",
    "        "
   ]
  },
  {
   "cell_type": "code",
   "execution_count": 49,
   "metadata": {},
   "outputs": [],
   "source": [
    "##Crear directorio en hdfs\n",
    "def crear_directorio(client,pathhdfs):\n",
    "    try:\n",
    "        pathcreado=client.makedirs(pathhdfs)\n",
    "        print(\"se creo el directorio\"+\" \" + pathhdfs)\n",
    "        return pathcreado\n",
    "    except:\n",
    "        print(\"Ocurrio un error favor de verificar\")"
   ]
  },
  {
   "cell_type": "code",
   "execution_count": 19,
   "metadata": {},
   "outputs": [],
   "source": [
    "        \n",
    "##Cargar archivo\n",
    "def cargar_archivo(client,pathhdfs,local_path):\n",
    "    try:\n",
    "        f=hdfs.open(local_path, 'r')\n",
    "        datos= json.load(f)\n",
    "        content=client.content(pathhdfs, strict=False)\n",
    "    except:\n",
    "        print(\"Ocurrio un error, favor de verificar\")"
   ]
  },
  {
   "cell_type": "code",
   "execution_count": 35,
   "metadata": {},
   "outputs": [],
   "source": [
    "##Listar archivos dentro de una ruta de hdfs\n",
    "def lista_directorio(client,path):\n",
    "    try:\n",
    "        lista=client.list(path)\n",
    "        print(lista)\n",
    "    except:\n",
    "        print(\"Ocurrio un error, favor de verificar\")"
   ]
  },
  {
   "cell_type": "code",
   "execution_count": 41,
   "metadata": {},
   "outputs": [],
   "source": [
    "\n",
    "##Leer un archivo de hdfs.\n",
    "def lectura_HDFS(cliente,path_archivo):\n",
    "    try:\n",
    "        with cliente.read(path_archivo) as reader:\n",
    "            print(reader)\n",
    "    except:\n",
    "        print(\"Ocurrió un error, favor de verificar\")"
   ]
  },
  {
   "cell_type": "code",
   "execution_count": 44,
   "metadata": {},
   "outputs": [],
   "source": [
    "\n",
    "        \n",
    "## Eliminar un directorio\n",
    "def eliminar_directorio(client,path_hdfs):\n",
    "    try:\n",
    "        client.delete(path_hdfs)\n",
    "        print(\"Se ha borrado exitosamente el directorio\"+ path_hdfs)\n",
    "    except:\n",
    "        print(\"Ocurrio un error, favor de verificar\")"
   ]
  },
  {
   "cell_type": "code",
   "execution_count": 57,
   "metadata": {},
   "outputs": [
    {
     "name": "stdout",
     "output_type": "stream",
     "text": [
      "se creo el directorio /hdfs/prueba2/\n",
      "['prueba', 'prueba2']\n",
      "Se ha borrado exitosamente el directorio/hdfs/prueba2\n",
      "Ocurrio un error, favor de verificar\n",
      "Ocurrió un error, favor de verificar\n"
     ]
    }
   ],
   "source": [
    "def main():\n",
    "    user=\"hdfs\"\n",
    "    file=''\n",
    "    path_hdfs=\"/hdfs/prueba2\"\n",
    "    path_archivo=\"/user/root/file.txt/\"\n",
    "    path=\"/hdfs/\"\n",
    "    pathhdfs=\"/user/root/\"\n",
    "    local_path=\"/Documents/denuncias-victimas.json/\"\n",
    "    url='http://localhost:50070'\n",
    "    client=conexion(url, user)\n",
    "    crear_directorio(client,\"/hdfs/prueba2/\")\n",
    "    lista_directorio(client,path)\n",
    "    eliminar_directorio(client, path_hdfs)\n",
    "    \n",
    "    user=\"root\"\n",
    "    cargar_archivo(client, pathhdfs,local_path)\n",
    "    lectura_HDFS(client, path_archivo)\n",
    "\n",
    "if __name__=='__main__':\n",
    "    main()"
   ]
  }
 ],
 "metadata": {
  "kernelspec": {
   "display_name": "Python 3",
   "language": "python",
   "name": "python3"
  },
  "language_info": {
   "codemirror_mode": {
    "name": "ipython",
    "version": 3
   },
   "file_extension": ".py",
   "mimetype": "text/x-python",
   "name": "python",
   "nbconvert_exporter": "python",
   "pygments_lexer": "ipython3",
   "version": "3.7.4"
  }
 },
 "nbformat": 4,
 "nbformat_minor": 2
}
