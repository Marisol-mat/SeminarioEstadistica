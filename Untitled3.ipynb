{
 "cells": [
  {
   "cell_type": "markdown",
   "metadata": {},
   "source": [
    "# UNIVERSIDAD NACIONAL AUTONOMA DE MEXICO\n",
    "## Seminario de Estadística\n",
    "## Arreola Silva Edna Marisol"
   ]
  },
  {
   "cell_type": "code",
   "execution_count": 8,
   "metadata": {},
   "outputs": [],
   "source": [
    "from hdfs import InsecureClient\n",
    "import json\n",
    "\n",
    "##Crear conexión con HDFS\n",
    "def conexion(url):\n",
    "    \"\"\"\n",
    "    url --string no null, url del host\n",
    "    \n",
    "    Esta función logra la conexion con hdfs \n",
    "    \n",
    "    \"\"\"\n",
    "    try:\n",
    "        client = InsecureClient(url)\n",
    "        return client\n",
    "    except:\n",
    "        print(\"Ocurrio un error favor de verificar la url del host\")\n",
    "        "
   ]
  },
  {
   "cell_type": "code",
   "execution_count": 9,
   "metadata": {},
   "outputs": [],
   "source": [
    "##Crear directorio en hdfs\n",
    "def crear_directorio(client,pathhdfs):\n",
    "    \"\"\"\n",
    "    pathhdfs --string not null \n",
    "    Esta funcion crea un directorio en hdfs, pasandole la ruta donde sera creado\n",
    "    \"\"\"\n",
    "    try:\n",
    "        pathcreado=client.makedirs(pathhdfs)\n",
    "        print(\"se creo el directorio \" + pathhdfs)\n",
    "        return pathcreado\n",
    "    except:\n",
    "        print(\"Ocurrio un error favor de verificar\")"
   ]
  },
  {
   "cell_type": "code",
   "execution_count": 16,
   "metadata": {},
   "outputs": [],
   "source": [
    "        \n",
    "##Cargar archivo\n",
    "def cargar_archivo(client,pathhdfs,local_path):\n",
    "    try:\n",
    "        f=hdfs.open(local_path, 'r')\n",
    "        datos= json.load(f)\n",
    "        content=client.content(pathhdfs, strict=False)\n",
    "    except:\n",
    "        print(\"Ocurrio un error, favor de verificar\")"
   ]
  },
  {
   "cell_type": "code",
   "execution_count": 17,
   "metadata": {},
   "outputs": [],
   "source": [
    "##Listar archivos dentro de una ruta de hdfs\n",
    "def lista_directorio(client,path):\n",
    "    try:\n",
    "        client.list(path)\n",
    "    except:\n",
    "        print(\"Ocurrio un error, favor de verificar\")"
   ]
  },
  {
   "cell_type": "code",
   "execution_count": 25,
   "metadata": {},
   "outputs": [],
   "source": [
    "\n",
    "##Leer un archivo de hdfs.\n",
    "def lectura_HDFS(cliente,path_archivo):\n",
    "    try:\n",
    "        with cliente.read(path_archivo) as reader:\n",
    "            print(reader)\n",
    "    except:\n",
    "        print(\"Ocurrió un error, favor de verificar\")"
   ]
  },
  {
   "cell_type": "code",
   "execution_count": 23,
   "metadata": {},
   "outputs": [],
   "source": [
    "\n",
    "        \n",
    "## Eliminar un directorio\n",
    "def eliminar_directorio(client,path_hdfs):\n",
    "    try:\n",
    "        client.delete(path_hdfs)\n",
    "    except:\n",
    "        print(\"Ocurrio un error, favor de verificar\")"
   ]
  },
  {
   "cell_type": "code",
   "execution_count": 26,
   "metadata": {},
   "outputs": [
    {
     "name": "stdout",
     "output_type": "stream",
     "text": [
      "Ocurrio un error favor de verificar\n",
      "Ocurrio un error, favor de verificar\n",
      "Ocurrio un error, favor de verificar\n",
      "Ocurrió un error, favor de verificar\n",
      "Ocurrio un error, favor de verificar\n"
     ]
    }
   ],
   "source": [
    "def main():\n",
    "    file=''\n",
    "    path_hdfs=\"/user/prueba\"\n",
    "    path_archivo=\"/user/prueba\"\n",
    "    path=\"/user/prueba\"\n",
    "    pathhdfs=\"/user/prueba\"\n",
    "    local_path=\"/Documents/denuncias-victimas.json\"\n",
    "    url='http://localhost:50070'\n",
    "    client=conexion(url)\n",
    "    crear_directorio(client,\"/hadoop/hdfs/namenode/\")\n",
    "    cargar_archivo(client, pathhdfs,local_path)\n",
    "    lista_directorio(client,path)\n",
    "    lectura_HDFS(client, path_archivo)\n",
    "    eliminar_directorio(client, path_hdfs)\n",
    "\n",
    "if __name__=='__main__':\n",
    "    main()"
   ]
  }
 ],
 "metadata": {
  "kernelspec": {
   "display_name": "Python 3",
   "language": "python",
   "name": "python3"
  },
  "language_info": {
   "codemirror_mode": {
    "name": "ipython",
    "version": 3
   },
   "file_extension": ".py",
   "mimetype": "text/x-python",
   "name": "python",
   "nbconvert_exporter": "python",
   "pygments_lexer": "ipython3",
   "version": "3.7.4"
  }
 },
 "nbformat": 4,
 "nbformat_minor": 2
}
